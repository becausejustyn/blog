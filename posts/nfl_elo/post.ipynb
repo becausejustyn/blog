{
  "cells": [
    {
      "cell_type": "raw",
      "metadata": {},
      "source": [
        "---\n",
        "title: NFL Elo\n",
        "date: '2023-08-30'\n",
        "categories: ['NFL']\n",
        "description: 'Calculating elo for NFL teams.'\n",
        "execute: \n",
        "  message: false\n",
        "  warning: false\n",
        "---"
      ],
      "id": "a5c82829"
    },
    {
      "cell_type": "code",
      "metadata": {},
      "source": [
        "import numpy as np\n",
        "import pandas as pd\n",
        "\n",
        "import matplotlib.pyplot as plt\n",
        "plt.style.use('ggplot')"
      ],
      "id": "7c86a5aa",
      "execution_count": null,
      "outputs": []
    },
    {
      "cell_type": "markdown",
      "metadata": {},
      "source": [
        "One of my favourite models that I have come across is the [Elo ratings](https://en.wikipedia.org/wiki/Elo_rating_system). In short, it is a system that can be applied to pairwise matchups such as teams or players. It is quite popular across different domains such as chess, education, chess, online gaming, and many more. I like it because it was the first time I tried adjusting a formula with some knowledge about the topic that I wanted to focus on. Elo updates after every single game a player or team participates in. Because a team can only play the teams on their schedule in sport, Elo allows us to reduce some of the uncertainty to how good a particular team is. Another nice feature of Elo is that it rewards teams more for beating a good team, and punishes good teams for losing to bad teams[^1].\n",
        "\n",
        "## Overview of Elo\n",
        "\n",
        "A matchup of $Team_{A}$ and $Team_{B}$ start a match with rankings $R_{A}$ and $R_{B}$. The score of the game is then coded as $0$ for a loss, $0.5$ for a draw and $1$ for a win. The priors can be expressed using:\n",
        "\n",
        "$$P_{A} = \\frac{1}{1 + 10^{(R_{B} - R_{A})/400}} \\quad P_{B} = 1 - P_{A}$$\n",
        "\n",
        "::: {.column-margin}\n",
        "Where $R$ is short for ranking.\n",
        ":::\n",
        "\n",
        "where $P_{i}$ is the prior probability that team $i$ wins the match. After each match, ratings are updated as follows:\n",
        "\n",
        "$$R_{A}^{new} = R_{A} + K(S_{A} - P_{A}) \\quad R_{B}^{new} = R_{B} + K(S_{B} - P_{B})$$\n",
        "\n",
        "where $S_{i}$ is the score of team $i$ (0/0.5/1) and $K$ is an update weight (commonly called the `k-factor`).\n",
        "\n",
        ":::{.callout-note}\n",
        "Sometimes K Factor is simply called K or Update Factor.\n",
        "\n",
        "  - A larger $K$ creates more variance as the values get updated, whereas a lower $K$ value takes longer to adjust to new information. 538 in their Elo model use a $K$ of $25$.\n",
        ":::\n",
        "\n",
        "As such, it is a zero sum game. For every elo point one team gains, the other team loses the same amount.\n",
        "\n",
        "## Scaling Factor\n",
        "\n",
        "A scaling factor of $400$ means that a difference in $400$ elo would give the favoured team a $90\\%$ chance to win (see below). A smaller value would decrease the range of values. This does not matter too much, however, I like to keep this at $400$ so comparing different Elo methods is apples to apples. \n"
      ],
      "id": "ccc5878a"
    },
    {
      "cell_type": "code",
      "metadata": {},
      "source": [
        "df = pd.DataFrame({\n",
        "    'elo_diff': np.arange(-1000, 1100, 100),\n",
        "    # [::-1] reverses the order of the prob column so -1000 is the underdog\n",
        "    'prob': 1 / (1 + 10**((np.arange(-1000, 1100, 100)) / 400))[::-1]\n",
        "})\n",
        "\n",
        "fig = plt.figure(figsize = (8, 4))\n",
        "\n",
        "plt.plot(df['elo_diff'], df['prob'], color = '#2ca25f', linewidth = 2)\n",
        "plt.yticks(np.arange(0, 1.1, 0.1))\n",
        "plt.xlabel('Elo Difference')\n",
        "plt.ylabel('Win Probability')\n",
        "plt.title('Probability that team $i$ beats team $j$')\n",
        "plt.grid(True)\n",
        "plt.show()"
      ],
      "id": "add95d6c",
      "execution_count": null,
      "outputs": []
    },
    {
      "cell_type": "markdown",
      "metadata": {},
      "source": [
        "## Next\n",
        "\n",
        "[^1]: Teams or players through a season probably do not get better or worse, but our estimation of their skill improves, or the uncertainty decreases."
      ],
      "id": "beb47d98"
    }
  ],
  "metadata": {
    "kernelspec": {
      "name": "nlp_env",
      "language": "python",
      "display_name": "nlp_env"
    }
  },
  "nbformat": 4,
  "nbformat_minor": 5
}